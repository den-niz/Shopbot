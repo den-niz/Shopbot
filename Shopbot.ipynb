{
  "nbformat": 4,
  "nbformat_minor": 0,
  "metadata": {
    "colab": {
      "provenance": [],
      "include_colab_link": true
    },
    "kernelspec": {
      "name": "python3",
      "display_name": "Python 3"
    },
    "language_info": {
      "name": "python"
    },
    "widgets": {
      "application/vnd.jupyter.widget-state+json": {
        "f259e7765d40424e840163073f2c0aff": {
          "model_module": "@jupyter-widgets/controls",
          "model_name": "VBoxModel",
          "model_module_version": "1.5.0",
          "state": {
            "_dom_classes": [],
            "_model_module": "@jupyter-widgets/controls",
            "_model_module_version": "1.5.0",
            "_model_name": "VBoxModel",
            "_view_count": null,
            "_view_module": "@jupyter-widgets/controls",
            "_view_module_version": "1.5.0",
            "_view_name": "VBoxView",
            "box_style": "",
            "children": [
              "IPY_MODEL_6a855b03fc1244019ca4a6742e6c3a07",
              "IPY_MODEL_79e077e874ee4ae0b5465a6e3a618346"
            ],
            "layout": "IPY_MODEL_b63040094d694847a3f6c35604fd3bbe"
          }
        },
        "6a855b03fc1244019ca4a6742e6c3a07": {
          "model_module": "@jupyter-widgets/controls",
          "model_name": "TextModel",
          "model_module_version": "1.5.0",
          "state": {
            "_dom_classes": [],
            "_model_module": "@jupyter-widgets/controls",
            "_model_module_version": "1.5.0",
            "_model_name": "TextModel",
            "_view_count": null,
            "_view_module": "@jupyter-widgets/controls",
            "_view_module_version": "1.5.0",
            "_view_name": "TextView",
            "continuous_update": true,
            "description": "",
            "description_tooltip": null,
            "disabled": false,
            "layout": "IPY_MODEL_c07a199a82c64d6c8925795e481e2b50",
            "placeholder": "Enter text here…",
            "style": "IPY_MODEL_981d4f5dfb51460aabe7b6350e796bd3",
            "value": ""
          }
        },
        "79e077e874ee4ae0b5465a6e3a618346": {
          "model_module": "@jupyter-widgets/controls",
          "model_name": "ButtonModel",
          "model_module_version": "1.5.0",
          "state": {
            "_dom_classes": [],
            "_model_module": "@jupyter-widgets/controls",
            "_model_module_version": "1.5.0",
            "_model_name": "ButtonModel",
            "_view_count": null,
            "_view_module": "@jupyter-widgets/controls",
            "_view_module_version": "1.5.0",
            "_view_name": "ButtonView",
            "button_style": "",
            "description": "Chat!",
            "disabled": false,
            "icon": "",
            "layout": "IPY_MODEL_e649054baf4345deab9fb3dfa065a91e",
            "style": "IPY_MODEL_8774d881beca4fed86d926d6f57b0f17",
            "tooltip": ""
          }
        },
        "b63040094d694847a3f6c35604fd3bbe": {
          "model_module": "@jupyter-widgets/base",
          "model_name": "LayoutModel",
          "model_module_version": "1.2.0",
          "state": {
            "_model_module": "@jupyter-widgets/base",
            "_model_module_version": "1.2.0",
            "_model_name": "LayoutModel",
            "_view_count": null,
            "_view_module": "@jupyter-widgets/base",
            "_view_module_version": "1.2.0",
            "_view_name": "LayoutView",
            "align_content": null,
            "align_items": null,
            "align_self": null,
            "border": null,
            "bottom": null,
            "display": null,
            "flex": null,
            "flex_flow": null,
            "grid_area": null,
            "grid_auto_columns": null,
            "grid_auto_flow": null,
            "grid_auto_rows": null,
            "grid_column": null,
            "grid_gap": null,
            "grid_row": null,
            "grid_template_areas": null,
            "grid_template_columns": null,
            "grid_template_rows": null,
            "height": null,
            "justify_content": null,
            "justify_items": null,
            "left": null,
            "margin": null,
            "max_height": null,
            "max_width": null,
            "min_height": null,
            "min_width": null,
            "object_fit": null,
            "object_position": null,
            "order": null,
            "overflow": null,
            "overflow_x": null,
            "overflow_y": null,
            "padding": null,
            "right": null,
            "top": null,
            "visibility": null,
            "width": null
          }
        },
        "c07a199a82c64d6c8925795e481e2b50": {
          "model_module": "@jupyter-widgets/base",
          "model_name": "LayoutModel",
          "model_module_version": "1.2.0",
          "state": {
            "_model_module": "@jupyter-widgets/base",
            "_model_module_version": "1.2.0",
            "_model_name": "LayoutModel",
            "_view_count": null,
            "_view_module": "@jupyter-widgets/base",
            "_view_module_version": "1.2.0",
            "_view_name": "LayoutView",
            "align_content": null,
            "align_items": null,
            "align_self": null,
            "border": null,
            "bottom": null,
            "display": null,
            "flex": null,
            "flex_flow": null,
            "grid_area": null,
            "grid_auto_columns": null,
            "grid_auto_flow": null,
            "grid_auto_rows": null,
            "grid_column": null,
            "grid_gap": null,
            "grid_row": null,
            "grid_template_areas": null,
            "grid_template_columns": null,
            "grid_template_rows": null,
            "height": null,
            "justify_content": null,
            "justify_items": null,
            "left": null,
            "margin": null,
            "max_height": null,
            "max_width": null,
            "min_height": null,
            "min_width": null,
            "object_fit": null,
            "object_position": null,
            "order": null,
            "overflow": null,
            "overflow_x": null,
            "overflow_y": null,
            "padding": null,
            "right": null,
            "top": null,
            "visibility": null,
            "width": null
          }
        },
        "981d4f5dfb51460aabe7b6350e796bd3": {
          "model_module": "@jupyter-widgets/controls",
          "model_name": "DescriptionStyleModel",
          "model_module_version": "1.5.0",
          "state": {
            "_model_module": "@jupyter-widgets/controls",
            "_model_module_version": "1.5.0",
            "_model_name": "DescriptionStyleModel",
            "_view_count": null,
            "_view_module": "@jupyter-widgets/base",
            "_view_module_version": "1.2.0",
            "_view_name": "StyleView",
            "description_width": ""
          }
        },
        "e649054baf4345deab9fb3dfa065a91e": {
          "model_module": "@jupyter-widgets/base",
          "model_name": "LayoutModel",
          "model_module_version": "1.2.0",
          "state": {
            "_model_module": "@jupyter-widgets/base",
            "_model_module_version": "1.2.0",
            "_model_name": "LayoutModel",
            "_view_count": null,
            "_view_module": "@jupyter-widgets/base",
            "_view_module_version": "1.2.0",
            "_view_name": "LayoutView",
            "align_content": null,
            "align_items": null,
            "align_self": null,
            "border": null,
            "bottom": null,
            "display": null,
            "flex": null,
            "flex_flow": null,
            "grid_area": null,
            "grid_auto_columns": null,
            "grid_auto_flow": null,
            "grid_auto_rows": null,
            "grid_column": null,
            "grid_gap": null,
            "grid_row": null,
            "grid_template_areas": null,
            "grid_template_columns": null,
            "grid_template_rows": null,
            "height": null,
            "justify_content": null,
            "justify_items": null,
            "left": null,
            "margin": null,
            "max_height": null,
            "max_width": null,
            "min_height": null,
            "min_width": null,
            "object_fit": null,
            "object_position": null,
            "order": null,
            "overflow": null,
            "overflow_x": null,
            "overflow_y": null,
            "padding": null,
            "right": null,
            "top": null,
            "visibility": null,
            "width": null
          }
        },
        "8774d881beca4fed86d926d6f57b0f17": {
          "model_module": "@jupyter-widgets/controls",
          "model_name": "ButtonStyleModel",
          "model_module_version": "1.5.0",
          "state": {
            "_model_module": "@jupyter-widgets/controls",
            "_model_module_version": "1.5.0",
            "_model_name": "ButtonStyleModel",
            "_view_count": null,
            "_view_module": "@jupyter-widgets/base",
            "_view_module_version": "1.2.0",
            "_view_name": "StyleView",
            "button_color": null,
            "font_weight": ""
          }
        }
      }
    }
  },
  "cells": [
    {
      "cell_type": "markdown",
      "metadata": {
        "id": "view-in-github",
        "colab_type": "text"
      },
      "source": [
        "<a href=\"https://colab.research.google.com/github/den-niz/Shopbot/blob/main/Shopbot.ipynb\" target=\"_parent\"><img src=\"https://colab.research.google.com/assets/colab-badge.svg\" alt=\"Open In Colab\"/></a>"
      ]
    },
    {
      "cell_type": "code",
      "source": [
        "# Installing packages\n",
        "!pip install --quiet openai python-dotenv\n",
        "!pip install comet_ml"
      ],
      "metadata": {
        "id": "hIMe6WBsxNEL",
        "colab": {
          "base_uri": "https://localhost:8080/"
        },
        "outputId": "dc62db0c-db63-433e-fa51-3fce6416e56c"
      },
      "execution_count": 11,
      "outputs": [
        {
          "output_type": "stream",
          "name": "stdout",
          "text": [
            "Requirement already satisfied: comet_ml in /usr/local/lib/python3.11/dist-packages (3.49.7)\n",
            "Requirement already satisfied: dulwich!=0.20.33,>=0.20.6 in /usr/local/lib/python3.11/dist-packages (from comet_ml) (0.22.8)\n",
            "Requirement already satisfied: everett<3.2.0,>=1.0.1 in /usr/local/lib/python3.11/dist-packages (from everett[ini]<3.2.0,>=1.0.1->comet_ml) (3.1.0)\n",
            "Requirement already satisfied: jsonschema!=3.1.0,>=2.6.0 in /usr/local/lib/python3.11/dist-packages (from comet_ml) (4.23.0)\n",
            "Requirement already satisfied: psutil>=5.6.3 in /usr/local/lib/python3.11/dist-packages (from comet_ml) (5.9.5)\n",
            "Requirement already satisfied: python-box<7.0.0 in /usr/local/lib/python3.11/dist-packages (from comet_ml) (6.1.0)\n",
            "Requirement already satisfied: requests-toolbelt>=0.8.0 in /usr/local/lib/python3.11/dist-packages (from comet_ml) (1.0.0)\n",
            "Requirement already satisfied: requests>=2.18.4 in /usr/local/lib/python3.11/dist-packages (from comet_ml) (2.32.3)\n",
            "Requirement already satisfied: rich>=13.3.2 in /usr/local/lib/python3.11/dist-packages (from comet_ml) (13.9.4)\n",
            "Requirement already satisfied: semantic-version>=2.8.0 in /usr/local/lib/python3.11/dist-packages (from comet_ml) (2.10.0)\n",
            "Requirement already satisfied: sentry-sdk>=1.1.0 in /usr/local/lib/python3.11/dist-packages (from comet_ml) (2.25.1)\n",
            "Requirement already satisfied: simplejson in /usr/local/lib/python3.11/dist-packages (from comet_ml) (3.20.1)\n",
            "Requirement already satisfied: urllib3>=1.21.1 in /usr/local/lib/python3.11/dist-packages (from comet_ml) (2.3.0)\n",
            "Requirement already satisfied: wrapt>=1.11.2 in /usr/local/lib/python3.11/dist-packages (from comet_ml) (1.17.2)\n",
            "Requirement already satisfied: wurlitzer>=1.0.2 in /usr/local/lib/python3.11/dist-packages (from comet_ml) (3.1.1)\n",
            "Requirement already satisfied: configobj in /usr/local/lib/python3.11/dist-packages (from everett[ini]<3.2.0,>=1.0.1->comet_ml) (5.0.9)\n",
            "Requirement already satisfied: attrs>=22.2.0 in /usr/local/lib/python3.11/dist-packages (from jsonschema!=3.1.0,>=2.6.0->comet_ml) (25.3.0)\n",
            "Requirement already satisfied: jsonschema-specifications>=2023.03.6 in /usr/local/lib/python3.11/dist-packages (from jsonschema!=3.1.0,>=2.6.0->comet_ml) (2024.10.1)\n",
            "Requirement already satisfied: referencing>=0.28.4 in /usr/local/lib/python3.11/dist-packages (from jsonschema!=3.1.0,>=2.6.0->comet_ml) (0.36.2)\n",
            "Requirement already satisfied: rpds-py>=0.7.1 in /usr/local/lib/python3.11/dist-packages (from jsonschema!=3.1.0,>=2.6.0->comet_ml) (0.24.0)\n",
            "Requirement already satisfied: charset-normalizer<4,>=2 in /usr/local/lib/python3.11/dist-packages (from requests>=2.18.4->comet_ml) (3.4.1)\n",
            "Requirement already satisfied: idna<4,>=2.5 in /usr/local/lib/python3.11/dist-packages (from requests>=2.18.4->comet_ml) (3.10)\n",
            "Requirement already satisfied: certifi>=2017.4.17 in /usr/local/lib/python3.11/dist-packages (from requests>=2.18.4->comet_ml) (2025.1.31)\n",
            "Requirement already satisfied: markdown-it-py>=2.2.0 in /usr/local/lib/python3.11/dist-packages (from rich>=13.3.2->comet_ml) (3.0.0)\n",
            "Requirement already satisfied: pygments<3.0.0,>=2.13.0 in /usr/local/lib/python3.11/dist-packages (from rich>=13.3.2->comet_ml) (2.18.0)\n",
            "Requirement already satisfied: mdurl~=0.1 in /usr/local/lib/python3.11/dist-packages (from markdown-it-py>=2.2.0->rich>=13.3.2->comet_ml) (0.1.2)\n",
            "Requirement already satisfied: typing-extensions>=4.4.0 in /usr/local/lib/python3.11/dist-packages (from referencing>=0.28.4->jsonschema!=3.1.0,>=2.6.0->comet_ml) (4.13.1)\n"
          ]
        }
      ]
    },
    {
      "cell_type": "code",
      "execution_count": 12,
      "metadata": {
        "id": "pVjc10dtuVWZ"
      },
      "outputs": [],
      "source": [
        "# Importing nessessary packages\n",
        "import os\n",
        "from openai import OpenAI\n",
        "import comet_ml\n",
        "from IPython.display import display\n",
        "import ipywidgets as widgets\n",
        "import time\n",
        "import dotenv\n"
      ]
    },
    {
      "source": [
        "!pip install comet_ml"
      ],
      "cell_type": "code",
      "metadata": {
        "id": "8I8SqAngzt-m",
        "colab": {
          "base_uri": "https://localhost:8080/"
        },
        "outputId": "c559a4fc-40aa-4d6b-d82e-facd5e4df0e0"
      },
      "execution_count": 13,
      "outputs": [
        {
          "output_type": "stream",
          "name": "stdout",
          "text": [
            "Requirement already satisfied: comet_ml in /usr/local/lib/python3.11/dist-packages (3.49.7)\n",
            "Requirement already satisfied: dulwich!=0.20.33,>=0.20.6 in /usr/local/lib/python3.11/dist-packages (from comet_ml) (0.22.8)\n",
            "Requirement already satisfied: everett<3.2.0,>=1.0.1 in /usr/local/lib/python3.11/dist-packages (from everett[ini]<3.2.0,>=1.0.1->comet_ml) (3.1.0)\n",
            "Requirement already satisfied: jsonschema!=3.1.0,>=2.6.0 in /usr/local/lib/python3.11/dist-packages (from comet_ml) (4.23.0)\n",
            "Requirement already satisfied: psutil>=5.6.3 in /usr/local/lib/python3.11/dist-packages (from comet_ml) (5.9.5)\n",
            "Requirement already satisfied: python-box<7.0.0 in /usr/local/lib/python3.11/dist-packages (from comet_ml) (6.1.0)\n",
            "Requirement already satisfied: requests-toolbelt>=0.8.0 in /usr/local/lib/python3.11/dist-packages (from comet_ml) (1.0.0)\n",
            "Requirement already satisfied: requests>=2.18.4 in /usr/local/lib/python3.11/dist-packages (from comet_ml) (2.32.3)\n",
            "Requirement already satisfied: rich>=13.3.2 in /usr/local/lib/python3.11/dist-packages (from comet_ml) (13.9.4)\n",
            "Requirement already satisfied: semantic-version>=2.8.0 in /usr/local/lib/python3.11/dist-packages (from comet_ml) (2.10.0)\n",
            "Requirement already satisfied: sentry-sdk>=1.1.0 in /usr/local/lib/python3.11/dist-packages (from comet_ml) (2.25.1)\n",
            "Requirement already satisfied: simplejson in /usr/local/lib/python3.11/dist-packages (from comet_ml) (3.20.1)\n",
            "Requirement already satisfied: urllib3>=1.21.1 in /usr/local/lib/python3.11/dist-packages (from comet_ml) (2.3.0)\n",
            "Requirement already satisfied: wrapt>=1.11.2 in /usr/local/lib/python3.11/dist-packages (from comet_ml) (1.17.2)\n",
            "Requirement already satisfied: wurlitzer>=1.0.2 in /usr/local/lib/python3.11/dist-packages (from comet_ml) (3.1.1)\n",
            "Requirement already satisfied: configobj in /usr/local/lib/python3.11/dist-packages (from everett[ini]<3.2.0,>=1.0.1->comet_ml) (5.0.9)\n",
            "Requirement already satisfied: attrs>=22.2.0 in /usr/local/lib/python3.11/dist-packages (from jsonschema!=3.1.0,>=2.6.0->comet_ml) (25.3.0)\n",
            "Requirement already satisfied: jsonschema-specifications>=2023.03.6 in /usr/local/lib/python3.11/dist-packages (from jsonschema!=3.1.0,>=2.6.0->comet_ml) (2024.10.1)\n",
            "Requirement already satisfied: referencing>=0.28.4 in /usr/local/lib/python3.11/dist-packages (from jsonschema!=3.1.0,>=2.6.0->comet_ml) (0.36.2)\n",
            "Requirement already satisfied: rpds-py>=0.7.1 in /usr/local/lib/python3.11/dist-packages (from jsonschema!=3.1.0,>=2.6.0->comet_ml) (0.24.0)\n",
            "Requirement already satisfied: charset-normalizer<4,>=2 in /usr/local/lib/python3.11/dist-packages (from requests>=2.18.4->comet_ml) (3.4.1)\n",
            "Requirement already satisfied: idna<4,>=2.5 in /usr/local/lib/python3.11/dist-packages (from requests>=2.18.4->comet_ml) (3.10)\n",
            "Requirement already satisfied: certifi>=2017.4.17 in /usr/local/lib/python3.11/dist-packages (from requests>=2.18.4->comet_ml) (2025.1.31)\n",
            "Requirement already satisfied: markdown-it-py>=2.2.0 in /usr/local/lib/python3.11/dist-packages (from rich>=13.3.2->comet_ml) (3.0.0)\n",
            "Requirement already satisfied: pygments<3.0.0,>=2.13.0 in /usr/local/lib/python3.11/dist-packages (from rich>=13.3.2->comet_ml) (2.18.0)\n",
            "Requirement already satisfied: mdurl~=0.1 in /usr/local/lib/python3.11/dist-packages (from markdown-it-py>=2.2.0->rich>=13.3.2->comet_ml) (0.1.2)\n",
            "Requirement already satisfied: typing-extensions>=4.4.0 in /usr/local/lib/python3.11/dist-packages (from referencing>=0.28.4->jsonschema!=3.1.0,>=2.6.0->comet_ml) (4.13.1)\n"
          ]
        }
      ]
    },
    {
      "cell_type": "code",
      "source": [
        "# API keys\n",
        "MY_OPENAI_KEY = os.getenv(\"OPENAI_API_KEY\")\n",
        "MY_COMET_KEY = os.getenv(\"COMET_API_KEY\")\n",
        "\n",
        "comet_ml.login(project_name=\"ecom_shopbot\",\n",
        "               api_key= \"COMET_API_KEY\")"
      ],
      "metadata": {
        "colab": {
          "base_uri": "https://localhost:8080/"
        },
        "id": "BOsBrG7mueLn",
        "outputId": "2eba8a93-d9a3-428a-b9ef-098a1dc79662"
      },
      "execution_count": 14,
      "outputs": [
        {
          "output_type": "stream",
          "name": "stderr",
          "text": [
            "\u001b[1;38;5;39mCOMET INFO:\u001b[0m Valid Comet API Key saved in /root/.comet.config (set COMET_CONFIG to change where it is saved).\n"
          ]
        }
      ]
    },
    {
      "cell_type": "code",
      "source": [
        "# product list\n",
        "product_list = '''\n",
        "# Fashion Shop Product List\n",
        "\n",
        "## Women's Clothing:\n",
        "\n",
        "- T-shirt\n",
        "  - Price: $20\n",
        "  - Available Sizes: Small, Medium, Large, XL\n",
        "  - Available Colors: Red, White, Black, Gray, Navy\n",
        "\n",
        "- Elegant Evening Gown\n",
        "  - Price: $150\n",
        "  - Available Sizes: Small, Medium, Large, XL\n",
        "  - Available Colors: Black, Navy Blue, Burgundy\n",
        "\n",
        "- Floral Summer Dress\n",
        "  - Price: $45\n",
        "  - Available Sizes: Small, Medium, Large\n",
        "  - Available Colors: Floral Print, Blue, Pink\n",
        "\n",
        "- Professional Blazer\n",
        "  - Price: $80\n",
        "  - Available Sizes: Small, Medium, Large, XL\n",
        "  - Available Colors: Black, Gray, Navy\n",
        "\n",
        "## Men's Clothing:\n",
        "- Classic Suit Set\n",
        "  - Price: $200\n",
        "  - Available Sizes: Small, Medium, Large, XL\n",
        "  - Available Colors: Charcoal Gray, Navy Blue, Black\n",
        "\n",
        "- Casual Denim Jeans\n",
        "  - Price: $35\n",
        "  - Available Sizes: 28, 30, 32, 34\n",
        "  - Available Colors: Blue Denim, Black\n",
        "\n",
        "- Polo Shirt Collection\n",
        "  - Price: $25 each\n",
        "  - Available Sizes: Small, Medium, Large, XL\n",
        "  - Available Colors: White, Blue, Red, Green\n",
        "\n",
        "## Accessories:\n",
        "- Stylish Sunglasses\n",
        "  - Price: $20\n",
        "  - Available Colors: Black, Brown, Tortoise Shell\n",
        "\n",
        "- Leather Handbag\n",
        "  - Price: $60\n",
        "  - Available Colors: Brown, Black, Red\n",
        "\n",
        "- Classic Wristwatch\n",
        "  - Price: $50\n",
        "  - Available Colors: Silver, Gold, Rose Gold\n",
        "\n",
        "## Footwear:\n",
        "- High-Heel Ankle Boots\n",
        "  - Price: $70\n",
        "  - Available Sizes: 5-10\n",
        "  - Available Colors: Black, Tan, Burgundy\n",
        "\n",
        "- Comfortable Sneakers\n",
        "  - Price: $55\n",
        "  - Available Sizes: 6-12\n",
        "  - Available Colors: White, Black, Gray\n",
        "\n",
        "- Formal Leather Shoes\n",
        "  - Price: $90\n",
        "  - Available Sizes: 7-11\n",
        "  - Available Colors: Brown, Black\n",
        "\n",
        "## Kids' Collection:\n",
        "- Cute Cartoon T-shirts\n",
        "  - Price: $15 each\n",
        "  - Available Sizes: 2T, 3T, 4T\n",
        "  - Available Colors: Blue, Pink, Yellow\n",
        "\n",
        "- Adorable Onesies\n",
        "  - Price: $25\n",
        "  - Available Sizes: Newborn, 3M, 6M, 12M\n",
        "  - Available Colors: Pastel Blue, Pink, Mint Green\n",
        "\n",
        "- Trendy Kids' Backpacks\n",
        "  - Price: $30\n",
        "  - Available Colors: Blue, Red, Purple\n",
        "\n",
        "## Activewear:\n",
        "- Yoga Leggings\n",
        "  - Price: $30\n",
        "  - Available Sizes: Small, Medium, Large\n",
        "  - Available Colors: Black, Gray, Teal\n",
        "\n",
        "- Running Shoes\n",
        "  - Price: $40\n",
        "  - Available Sizes: 6-12\n",
        "  - Available Colors: White, Black, Neon Green\n",
        "\n",
        "- Quick-Dry Sports T-shirt\n",
        "  - Price: $20\n",
        "  - Available Sizes: Small, Medium, Large\n",
        "  - Available Colors: Red, Blue, Gray\n",
        "\n",
        "\n",
        "'''\n",
        "\n",
        "context = [{'role': 'system',\n",
        "            'content': f\"\"\"\n",
        "You are ShopBot, an AI assistant for my online fashion shop - Denniz Designz.\n",
        "\n",
        "Your role is to assist customers in browsing products, providing information, and guiding them through the checkout process.\n",
        "\n",
        "Be friendly and helpful in your interactions.\n",
        "\n",
        "We offer a variety of products across categories such as Women's Clothing, Men's clothing, Accessories, Kids' Collection, Footwears and Activewear products.\n",
        "\n",
        "Feel free to ask customers about their preferences, recommend products, and inform them about any ongoing promotions.\n",
        "\n",
        "The Current Product List is limited as below:\n",
        "\n",
        "```{product_list}```\n",
        "\n",
        "Make the shopping experience enjoyable and encourage customers to reach out if they have any questions or need assistance.\n",
        "\"\"\"}]\n",
        "\n"
      ],
      "metadata": {
        "id": "ornpvDeBu8Eb"
      },
      "execution_count": 15,
      "outputs": []
    },
    {
      "cell_type": "code",
      "source": [
        "def get_completion_from_messages(messages, model=\"gpt-3.5-turbo\"):\n",
        "    client = OpenAI(\n",
        "        api_key=MY_OPENAI_KEY,\n",
        "    )\n",
        "\n",
        "    chat_completion = client.chat.completions.create(\n",
        "        messages=messages,\n",
        "        model=model,\n",
        "    )\n",
        "    return chat_completion.choices[0].message.content"
      ],
      "metadata": {
        "id": "Nyl6_E0wnqAt"
      },
      "execution_count": 16,
      "outputs": []
    },
    {
      "cell_type": "code",
      "source": [
        "\n",
        "def collect_messages(_):\n",
        "    user_input = inp.value\n",
        "    inp.value = ''\n",
        "    context.append({'role':'user', 'content':f\"{user_input}\"})\n",
        "\n",
        "    # Record the start time\n",
        "    start_time = time.time()\n",
        "\n",
        "    response = get_completion_from_messages(context)\n",
        "\n",
        "    # Record the end time\n",
        "    end_time = time.time()\n",
        "\n",
        "    # Calculate the duration\n",
        "    duration = end_time - start_time\n",
        "\n",
        "    # Log to comet_llm\n",
        "    comet_ml.log_prompt(\n",
        "        prompt=user_input,\n",
        "        output=response,\n",
        "        duration=duration,\n",
        "        metadata={\n",
        "        \"role\": context[-1]['role'],\n",
        "        \"content\": context[-1]['content'],\n",
        "        \"context\": context,\n",
        "        \"product_list\": product_list\n",
        "        },\n",
        "    )\n",
        "\n",
        "    context.append({'role': 'assistant', 'content': f\"{response}\"})\n",
        "\n",
        "    user_pane = widgets.Output()\n",
        "    with user_pane:\n",
        "        display(widgets.HTML(f\"<b>User:</b> {user_input}\"))\n",
        "\n",
        "    assistant_pane = widgets.Output()\n",
        "    with assistant_pane:\n",
        "        display(widgets.HTML(f\"<b>Assistant:</b> {response}\"))\n",
        "\n",
        "    display(widgets.VBox([user_pane, assistant_pane]))\n",
        "\n",
        "inp = widgets.Text(value=\"Hi\", placeholder='Enter text here…')\n",
        "button_conversation = widgets.Button(description=\"Chat!\")\n",
        "button_conversation.on_click(collect_messages)\n",
        "\n",
        "dashboard = widgets.VBox([inp, button_conversation])\n",
        "\n",
        "display(dashboard)"
      ],
      "metadata": {
        "id": "ti0pHCUPugov",
        "colab": {
          "base_uri": "https://localhost:8080/",
          "height": 498,
          "referenced_widgets": [
            "f259e7765d40424e840163073f2c0aff",
            "6a855b03fc1244019ca4a6742e6c3a07",
            "79e077e874ee4ae0b5465a6e3a618346",
            "b63040094d694847a3f6c35604fd3bbe",
            "c07a199a82c64d6c8925795e481e2b50",
            "981d4f5dfb51460aabe7b6350e796bd3",
            "e649054baf4345deab9fb3dfa065a91e",
            "8774d881beca4fed86d926d6f57b0f17"
          ]
        },
        "outputId": "9891c8ea-926b-4a76-ae23-027b66366ea8"
      },
      "execution_count": 17,
      "outputs": [
        {
          "output_type": "display_data",
          "data": {
            "text/plain": [
              "VBox(children=(Text(value='Hi', placeholder='Enter text here…'), Button(description='Chat!', style=ButtonStyle…"
            ],
            "application/vnd.jupyter.widget-view+json": {
              "version_major": 2,
              "version_minor": 0,
              "model_id": "f259e7765d40424e840163073f2c0aff"
            }
          },
          "metadata": {}
        },
        {
          "output_type": "error",
          "ename": "OpenAIError",
          "evalue": "The api_key client option must be set either by passing api_key to the client or by setting the OPENAI_API_KEY environment variable",
          "traceback": [
            "\u001b[0;31m---------------------------------------------------------------------------\u001b[0m",
            "\u001b[0;31mOpenAIError\u001b[0m                               Traceback (most recent call last)",
            "\u001b[0;32m<ipython-input-17-727f75be57f4>\u001b[0m in \u001b[0;36mcollect_messages\u001b[0;34m(_)\u001b[0m\n\u001b[1;32m      7\u001b[0m     \u001b[0mstart_time\u001b[0m \u001b[0;34m=\u001b[0m \u001b[0mtime\u001b[0m\u001b[0;34m.\u001b[0m\u001b[0mtime\u001b[0m\u001b[0;34m(\u001b[0m\u001b[0;34m)\u001b[0m\u001b[0;34m\u001b[0m\u001b[0;34m\u001b[0m\u001b[0m\n\u001b[1;32m      8\u001b[0m \u001b[0;34m\u001b[0m\u001b[0m\n\u001b[0;32m----> 9\u001b[0;31m     \u001b[0mresponse\u001b[0m \u001b[0;34m=\u001b[0m \u001b[0mget_completion_from_messages\u001b[0m\u001b[0;34m(\u001b[0m\u001b[0mcontext\u001b[0m\u001b[0;34m)\u001b[0m\u001b[0;34m\u001b[0m\u001b[0;34m\u001b[0m\u001b[0m\n\u001b[0m\u001b[1;32m     10\u001b[0m \u001b[0;34m\u001b[0m\u001b[0m\n\u001b[1;32m     11\u001b[0m     \u001b[0;31m# Record the end time\u001b[0m\u001b[0;34m\u001b[0m\u001b[0;34m\u001b[0m\u001b[0m\n",
            "\u001b[0;32m<ipython-input-16-c745b4324ad1>\u001b[0m in \u001b[0;36mget_completion_from_messages\u001b[0;34m(messages, model)\u001b[0m\n\u001b[1;32m      1\u001b[0m \u001b[0;32mdef\u001b[0m \u001b[0mget_completion_from_messages\u001b[0m\u001b[0;34m(\u001b[0m\u001b[0mmessages\u001b[0m\u001b[0;34m,\u001b[0m \u001b[0mmodel\u001b[0m\u001b[0;34m=\u001b[0m\u001b[0;34m\"gpt-3.5-turbo\"\u001b[0m\u001b[0;34m)\u001b[0m\u001b[0;34m:\u001b[0m\u001b[0;34m\u001b[0m\u001b[0;34m\u001b[0m\u001b[0m\n\u001b[0;32m----> 2\u001b[0;31m     client = OpenAI(\n\u001b[0m\u001b[1;32m      3\u001b[0m         \u001b[0mapi_key\u001b[0m\u001b[0;34m=\u001b[0m\u001b[0mMY_OPENAI_KEY\u001b[0m\u001b[0;34m,\u001b[0m\u001b[0;34m\u001b[0m\u001b[0;34m\u001b[0m\u001b[0m\n\u001b[1;32m      4\u001b[0m     )\n\u001b[1;32m      5\u001b[0m \u001b[0;34m\u001b[0m\u001b[0m\n",
            "\u001b[0;32m/usr/local/lib/python3.11/dist-packages/openai/_client.py\u001b[0m in \u001b[0;36m__init__\u001b[0;34m(self, api_key, organization, project, base_url, websocket_base_url, timeout, max_retries, default_headers, default_query, http_client, _strict_response_validation)\u001b[0m\n\u001b[1;32m    112\u001b[0m             \u001b[0mapi_key\u001b[0m \u001b[0;34m=\u001b[0m \u001b[0mos\u001b[0m\u001b[0;34m.\u001b[0m\u001b[0menviron\u001b[0m\u001b[0;34m.\u001b[0m\u001b[0mget\u001b[0m\u001b[0;34m(\u001b[0m\u001b[0;34m\"OPENAI_API_KEY\"\u001b[0m\u001b[0;34m)\u001b[0m\u001b[0;34m\u001b[0m\u001b[0;34m\u001b[0m\u001b[0m\n\u001b[1;32m    113\u001b[0m         \u001b[0;32mif\u001b[0m \u001b[0mapi_key\u001b[0m \u001b[0;32mis\u001b[0m \u001b[0;32mNone\u001b[0m\u001b[0;34m:\u001b[0m\u001b[0;34m\u001b[0m\u001b[0;34m\u001b[0m\u001b[0m\n\u001b[0;32m--> 114\u001b[0;31m             raise OpenAIError(\n\u001b[0m\u001b[1;32m    115\u001b[0m                 \u001b[0;34m\"The api_key client option must be set either by passing api_key to the client or by setting the OPENAI_API_KEY environment variable\"\u001b[0m\u001b[0;34m\u001b[0m\u001b[0;34m\u001b[0m\u001b[0m\n\u001b[1;32m    116\u001b[0m             )\n",
            "\u001b[0;31mOpenAIError\u001b[0m: The api_key client option must be set either by passing api_key to the client or by setting the OPENAI_API_KEY environment variable"
          ]
        }
      ]
    }
  ]
}